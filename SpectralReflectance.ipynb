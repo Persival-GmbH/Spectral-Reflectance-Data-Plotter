{
 "cells": [
  {
   "cell_type": "markdown",
   "id": "c8432588-3d61-4c6a-8bef-98dfae49f8ca",
   "metadata": {},
   "source": [
    "# Visualize [Spectral Reflectance Dataset](https://zenodo.org/record/7467552#.ZBIFb9LMJhE) from Virtual Vehicle\n",
    "Copyright 2023 Persival GmbH <br>\n",
    "SPDX-License-Identifier: MIT"
   ]
  },
  {
   "cell_type": "markdown",
   "id": "de58d55a-ec74-41cc-a5ed-a48787a78bca",
   "metadata": {},
   "source": [
    "## Imports"
   ]
  },
  {
   "cell_type": "code",
   "execution_count": 1,
   "id": "e8e513c5-a235-480f-8ad3-c8a7fadc505b",
   "metadata": {
    "tags": []
   },
   "outputs": [
    {
     "name": "stdout",
     "output_type": "stream",
     "text": [
      "Note: you may need to restart the kernel to use updated packages.\n",
      "Note: you may need to restart the kernel to use updated packages.\n"
     ]
    }
   ],
   "source": [
    "%pip install -q ipywidgets\n",
    "%pip install -q ipympl"
   ]
  },
  {
   "cell_type": "code",
   "execution_count": 2,
   "id": "c30fa747-4fb6-400b-bbf2-31ed28a88cd1",
   "metadata": {
    "tags": []
   },
   "outputs": [],
   "source": [
    "import glob\n",
    "import os\n",
    "import IPython.display\n",
    "import numpy as np\n",
    "import csv\n",
    "import ipywidgets\n",
    "\n",
    "from matplotlib import pyplot as plt"
   ]
  },
  {
   "cell_type": "markdown",
   "id": "b84d2421-e755-499a-b7a4-fd4927878888",
   "metadata": {},
   "source": [
    "## Set up"
   ]
  },
  {
   "cell_type": "code",
   "execution_count": 3,
   "id": "72222bb4-20b9-4784-846d-83bc4494e067",
   "metadata": {
    "tags": []
   },
   "outputs": [],
   "source": [
    "def get_file_list(path):\n",
    "    options = glob.glob('{}/*'.format(path.value))\n",
    "    filenames = []\n",
    "    for option in options:\n",
    "        filenames.append(os.path.basename(option))\n",
    "    filenames.sort()\n",
    "\n",
    "    files = ipywidgets.SelectMultiple(\n",
    "        description='Dataset(s)',\n",
    "        options=filenames,\n",
    "        layout=ipywidgets.Layout(width='50%', height='200px'))\n",
    "    \n",
    "    return files\n",
    "\n",
    "path = ipywidgets.Text(\n",
    "    description='Data Path:',\n",
    "    value='/your/path/to/the/database',\n",
    "    layout=ipywidgets.Layout(width='80%', height='50px'))"
   ]
  },
  {
   "cell_type": "code",
   "execution_count": 4,
   "id": "40ec89d3-1dcd-4804-9a6d-54b32f0ade13",
   "metadata": {
    "tags": []
   },
   "outputs": [],
   "source": [
    "def load_data(selected_file):\n",
    "    with open (selected_file, 'r') as f:\n",
    "        meas_angle_deg = np.array([row[0] for row in csv.reader(f,delimiter=' ')][1:]).astype(float)\n",
    "    with open (selected_file, 'r') as f:\n",
    "        meas_reflectivity = np.array([row[1] for row in csv.reader(f,delimiter=' ')][1:]).astype(float)\n",
    "\n",
    "    #sort\n",
    "    arr1inds = meas_angle_deg.argsort()\n",
    "    meas_angle_deg = meas_angle_deg[arr1inds[::-1]]\n",
    "    meas_reflectivity = meas_reflectivity[arr1inds[::-1]]\n",
    "    return meas_angle_deg, meas_reflectivity"
   ]
  },
  {
   "cell_type": "code",
   "execution_count": 5,
   "id": "8f5430d5-8ade-4c05-a467-1646307c0a79",
   "metadata": {
    "tags": []
   },
   "outputs": [],
   "source": [
    "def plot_all(path, files):\n",
    "    fig = plt.figure(1)\n",
    "    ax = fig.add_axes([0, 0, 1, 1])\n",
    "    \n",
    "    for file in files.value:\n",
    "        selected_file = path.value + '/' + file\n",
    "        meas_angle_deg, meas_reflectivity = load_data(selected_file)\n",
    "        ax.plot(meas_angle_deg, meas_reflectivity, '.-', label=file)\n",
    "\n",
    "    ax.legend()\n",
    "    ax.set_xlim((0, 90))\n",
    "    ax.set_xlabel('Incident Angle in °')\n",
    "    ax.set_ylabel('Backreflection in % of a 100 % Lambert Reflector')\n",
    "    plt.grid()"
   ]
  },
  {
   "cell_type": "markdown",
   "id": "45c833b2-8dfb-4619-9871-f70817c9d596",
   "metadata": {},
   "source": [
    "## Set Path to Database\n",
    "Download the database ([database.zip](https://zenodo.org/record/7467552#.ZBIFb9LMJhE)) and set the path the the *v1.0.0_database* folder."
   ]
  },
  {
   "cell_type": "code",
   "execution_count": 6,
   "id": "0a0483b3-b830-49a9-9355-c6f9f30ad17f",
   "metadata": {
    "tags": []
   },
   "outputs": [
    {
     "data": {
      "application/vnd.jupyter.widget-view+json": {
       "model_id": "5421e6db296c4022ab795db2f193acf4",
       "version_major": 2,
       "version_minor": 0
      },
      "text/plain": [
       "Text(value='/your/path/to/the/database', description='Data Path:', layout=Layout(height='50px', width='80%'))"
      ]
     },
     "metadata": {},
     "output_type": "display_data"
    }
   ],
   "source": [
    "IPython.display.display(path)\n",
    "files = get_file_list(path)"
   ]
  },
  {
   "cell_type": "markdown",
   "id": "dfa4d495-1d9b-44e6-88bf-08a3daba5389",
   "metadata": {},
   "source": [
    "## Plot Data"
   ]
  },
  {
   "cell_type": "code",
   "execution_count": 7,
   "id": "3ebd129b-ea2c-431c-a8a8-208841405a61",
   "metadata": {
    "tags": []
   },
   "outputs": [
    {
     "data": {
      "application/vnd.jupyter.widget-view+json": {
       "model_id": "6669ef5ef2374f51bbb71e62cd20e453",
       "version_major": 2,
       "version_minor": 0
      },
      "text/plain": [
       "SelectMultiple(description='Dataset(s)', layout=Layout(height='200px', width='50%'), options=(), value=())"
      ]
     },
     "metadata": {},
     "output_type": "display_data"
    },
    {
     "name": "stdout",
     "output_type": "stream",
     "text": [
      "\u001b[31mChoose one or multiple files to display and run this section again.\u001b[0m\n"
     ]
    }
   ],
   "source": [
    "%matplotlib inline\n",
    "IPython.display.display(files)\n",
    "\n",
    "if files.value:\n",
    "    plot_all(path, files)\n",
    "else:\n",
    "    print(\"\\x1b[31mChoose one or multiple files to display and run this section again.\\x1b[0m\")"
   ]
  },
  {
   "cell_type": "code",
   "execution_count": null,
   "id": "77ad0470-7b0f-45c5-855b-08b7de28f0af",
   "metadata": {},
   "outputs": [],
   "source": []
  }
 ],
 "metadata": {
  "kernelspec": {
   "display_name": "Python 3 (ipykernel)",
   "language": "python",
   "name": "python3"
  },
  "language_info": {
   "codemirror_mode": {
    "name": "ipython",
    "version": 3
   },
   "file_extension": ".py",
   "mimetype": "text/x-python",
   "name": "python",
   "nbconvert_exporter": "python",
   "pygments_lexer": "ipython3",
   "version": "3.10.6"
  }
 },
 "nbformat": 4,
 "nbformat_minor": 5
}
